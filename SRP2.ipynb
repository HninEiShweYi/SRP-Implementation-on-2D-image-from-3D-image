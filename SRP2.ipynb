{
  "nbformat": 4,
  "nbformat_minor": 0,
  "metadata": {
    "colab": {
      "provenance": []
    },
    "kernelspec": {
      "name": "python3",
      "display_name": "Python 3"
    },
    "language_info": {
      "name": "python"
    }
  },
  "cells": [
    {
      "cell_type": "code",
      "execution_count": 1,
      "metadata": {
        "id": "jZsnnMYippLv"
      },
      "outputs": [],
      "source": [
        "import matplotlib.pyplot as plt\n",
        "import tarfile\n",
        "import os\n",
        "import numpy as np\n",
        "from skimage.measure import label, regionprops\n",
        "from skimage import io"
      ]
    },
    {
      "cell_type": "code",
      "source": [
        "from google.colab import drive\n",
        "drive.mount('/content/drive')"
      ],
      "metadata": {
        "colab": {
          "base_uri": "https://localhost:8080/"
        },
        "id": "fyO20VVFpuMT",
        "outputId": "0aa4cfb7-babc-45fc-8c80-bcb914d4264f"
      },
      "execution_count": 2,
      "outputs": [
        {
          "output_type": "stream",
          "name": "stdout",
          "text": [
            "Mounted at /content/drive\n"
          ]
        }
      ]
    },
    {
      "cell_type": "code",
      "source": [
        "def visualize_image_processing(image_path, margin=5, min_size=100, top_n=2):\n",
        "    img = io.imread(image_path)\n",
        "    plt.figure(figsize=(15, 15))\n",
        "    plt.subplot(1, 2, 1)\n",
        "    plt.imshow(img, cmap='gray')\n",
        "    plt.title('Original Image')\n",
        "    plt.axis('off')\n",
        "image_path = '/content/drive/My Drive/ExtractionResults/157/cropped_images/top_intensity_nucleus_30_1.tif'  # Update this path\n",
        "visualize_image_processing(image_path)"
      ],
      "metadata": {
        "colab": {
          "base_uri": "https://localhost:8080/",
          "height": 674
        },
        "id": "8yg_bZgapuO9",
        "outputId": "a9c2562d-4bd0-45e4-eb79-876d13f5a329"
      },
      "execution_count": 3,
      "outputs": [
        {
          "output_type": "display_data",
          "data": {
            "text/plain": [
              "<Figure size 1500x1500 with 1 Axes>"
            ],
            "image/png": "[encoded data removed]"
          },
          "metadata": {}
        }
      ]
    },
    {
      "cell_type": "code",
      "source": [],
      "metadata": {
        "id": "m2lnfl84puRf"
      },
      "execution_count": 3,
      "outputs": []
    },
    {
      "cell_type": "markdown",
      "source": [
        "#Pixel Values"
      ],
      "metadata": {
        "id": "O6u8AclL4pHM"
      }
    },
    {
      "cell_type": "markdown",
      "source": [
        "## Global Function\n",
        "\n",
        "1. The result of processing each patch is appended to the results list, which eventually contains the processed data for all 5x5 patches in the image.\n",
        "2. Global function using image patch size of 5 × 5 pixels"
      ],
      "metadata": {
        "id": "POdnh79GveO1"
      }
    },
    {
      "cell_type": "code",
      "source": [
        "import numpy as np\n",
        "from imageio import imread\n",
        "\n",
        "def xGlob(image_path):\n",
        "    # Load the image\n",
        "    img = imread(image_path)\n",
        "\n",
        "    # Ensure the image is in grayscale; if it's not, convert or assert an error\n",
        "    if img.ndim == 3:\n",
        "        raise ValueError(\"Image must be grayscale. Currently, it has multiple channels.\")\n",
        "\n",
        "    def process_patch(patch):\n",
        "        return np.mean(patch)\n",
        "\n",
        "    results = []\n",
        "    for i in range(0, img.shape[0] - 4):\n",
        "        for j in range(0, img.shape[1] - 4):\n",
        "            # Extract a 5x5 patch\n",
        "            patch = img[i:i+5, j:j+5]\n",
        "            # Process the patch (e.g., compute the mean)\n",
        "            result = process_patch(patch)\n",
        "            results.append(result)\n",
        "\n",
        "    return results\n",
        "\n",
        "# Use the function\n",
        "image_path = '/content/drive/My Drive/ExtractionResults/157/cropped_images/top_intensity_nucleus_30_1.tif'\n",
        "results = xGlob(image_path)\n",
        "\n",
        "print(results[:5])\n"
      ],
      "metadata": {
        "colab": {
          "base_uri": "https://localhost:8080/"
        },
        "id": "nZJcfDDFpuT7",
        "outputId": "46c9fec7-07b6-4910-ff42-7a05a39b898a"
      },
      "execution_count": 4,
      "outputs": [
        {
          "output_type": "stream",
          "name": "stdout",
          "text": [
            "[0.0, 0.0, 0.0, 0.0, 0.0]\n"
          ]
        },
        {
          "output_type": "stream",
          "name": "stderr",
          "text": [
            "<ipython-input-4-8cae5e32bfe4>:6: DeprecationWarning: Starting with ImageIO v3 the behavior of this function will switch to that of iio.v3.imread. To keep the current behavior (and make this warning disappear) use `import imageio.v2 as imageio` or call `imageio.v2.imread` directly.\n",
            "  img = imread(image_path)\n"
          ]
        }
      ]
    },
    {
      "cell_type": "markdown",
      "source": [
        "### Random Projection in Global Function"
      ],
      "metadata": {
        "id": "Bnmqw6vbN2dR"
      }
    },
    {
      "cell_type": "code",
      "source": [
        "import numpy as np\n",
        "from imageio import imread\n",
        "\n",
        "# Priyanka's RP function unchanged\n",
        "def random_projection_matrix(input_dim, output_dim):\n",
        "    \"\"\"\n",
        "    Generates a random projection matrix with elements being either +1 or -1.\n",
        "    \"\"\"\n",
        "    return np.random.choice([-1, 1], size=(output_dim, input_dim))\n",
        "\n",
        "\n",
        "def xGlob(image_path):\n",
        "    img = imread(image_path)\n",
        "    if img.ndim == 3:\n",
        "        raise ValueError(\"Image must be grayscale. Currently, it has multiple channels.\")\n",
        "    def process_patch(patch):\n",
        "        return np.mean(patch)\n",
        "    results = []\n",
        "    for i in range(0, img.shape[0] - 4):\n",
        "        for j in range(0, img.shape[1] - 4):\n",
        "            patch = img[i:i+5, j:j+5]\n",
        "            result = process_patch(patch)\n",
        "            results.append(result)\n",
        "    return results\n",
        "\n",
        "input_dim = 10\n",
        "output_dim = 5\n",
        "\n",
        "\n",
        "image_path = '/content/drive/My Drive/ExtractionResults/157/cropped_images/top_intensity_nucleus_30_1.tif'\n",
        "xGlob_results = xGlob(image_path)\n",
        "\n",
        "\n",
        "xGlob_vector = np.array(xGlob_results).reshape(1, -1)\n",
        "\n",
        "# Adjust input_dim based on the actual length of xGlob results\n",
        "input_dim = xGlob_vector.shape[1]\n",
        "\n",
        "# Generate RP matrix and apply it\n",
        "rp_matrix = random_projection_matrix(input_dim, output_dim)\n",
        "rp_results = np.dot(rp_matrix, xGlob_vector.T)  # Transpose to match dimensions for multiplication\n",
        "\n",
        "print(rp_results)\n"
      ],
      "metadata": {
        "id": "MSSqLGUrpuWh",
        "colab": {
          "base_uri": "https://localhost:8080/"
        },
        "outputId": "6fde5b89-8dc8-4f85-a97b-de7d3b848330"
      },
      "execution_count": 5,
      "outputs": [
        {
          "output_type": "stream",
          "name": "stderr",
          "text": [
            "<ipython-input-5-fa06f0d471cc>:13: DeprecationWarning: Starting with ImageIO v3 the behavior of this function will switch to that of iio.v3.imread. To keep the current behavior (and make this warning disappear) use `import imageio.v2 as imageio` or call `imageio.v2.imread` directly.\n",
            "  img = imread(image_path)\n"
          ]
        },
        {
          "output_type": "stream",
          "name": "stdout",
          "text": [
            "[[ 591357.76]\n",
            " [-297959.2 ]\n",
            " [ 488082.56]\n",
            " [ 837046.  ]\n",
            " [ 227537.52]]\n"
          ]
        }
      ]
    },
    {
      "cell_type": "markdown",
      "source": [
        "## Square Function\n",
        "1. Extract the pixel values in concentric squares from the center of the patch outwards\n",
        "2.  Using an optional patch size (5x5 pixels)\n",
        "3. The square values for the first 5 patches as a demonstration of what the processing reveals."
      ],
      "metadata": {
        "id": "NBPVuUCm0ZQM"
      }
    },
    {
      "cell_type": "code",
      "source": [
        "import numpy as np\n",
        "from PIL import Image\n",
        "\n",
        "def load_image(image_path):\n",
        "    # Load the image and convert to grayscale\n",
        "    image = Image.open(image_path)\n",
        "    image = image.convert('L')\n",
        "    return np.array(image)\n",
        "\n",
        "def get_square_values(patch):\n",
        "    # Extract values in concentric squares\n",
        "    center = np.array(patch.shape) // 2\n",
        "    max_radius = min(center)\n",
        "    square_values = []\n",
        "\n",
        "    for r in range(max_radius + 1):\n",
        "        # Create the square mask\n",
        "        mask = np.zeros_like(patch, dtype=bool)\n",
        "        mask[max(center[0]-r, 0):min(center[0]+r+1, patch.shape[0]),\n",
        "             max(center[1]-r, 0):min(center[1]+r+1, patch.shape[1])] = True\n",
        "        mask[max(center[0]-(r-1), 0):min(center[0]+(r-1)+1, patch.shape[0]),\n",
        "             max(center[1]-(r-1), 0):min(center[1]+(r-1)+1, patch.shape[1])] = False\n",
        "        # Extract and sort values\n",
        "        square_values.extend(np.sort(patch[mask]))\n",
        "\n",
        "    return np.array(square_values)\n",
        "\n",
        "def process_image_for_squares(image_array, patch_size=5):\n",
        "    rows, cols = image_array.shape\n",
        "    square_values_list = []\n",
        "\n",
        "    # Iterate over each possible 5x5 patch in the image\n",
        "    for i in range(0, rows - patch_size + 1):\n",
        "        for j in range(0, cols - patch_size + 1):\n",
        "            # Extract the patch\n",
        "            patch = image_array[i:i+patch_size, j:j+patch_size]\n",
        "            # Get the square values from the patch\n",
        "            square_values = get_square_values(patch)\n",
        "            square_values_list.append(square_values)\n",
        "\n",
        "    return square_values_list\n",
        "\n",
        "\n",
        "image_path = '/content/drive/My Drive/ExtractionResults/157/cropped_images/top_intensity_nucleus_30_1.tif'\n",
        "image = load_image(image_path)\n",
        "\n",
        "# Process the image and get the square values for each patch\n",
        "all_square_values = process_image_for_squares(image)\n",
        "\n",
        "# For demonstration purposes, let's print the square values for the first 5 patches\n",
        "for i, square_values in enumerate(all_square_values[:5]):\n",
        "    print(f\"Square Values for patch {i+1}:\", square_values)\n"
      ],
      "metadata": {
        "colab": {
          "base_uri": "https://localhost:8080/"
        },
        "id": "uo2hYjFWpuZF",
        "outputId": "3cc83707-a872-46f6-fecd-d855cb65ca5d"
      },
      "execution_count": 15,
      "outputs": [
        {
          "output_type": "stream",
          "name": "stdout",
          "text": [
            "Square Values for patch 1: [0 0 0 0 0 0 0 0 0 0 0 0 0 0 0 0 0 0 0 0 0 0 0 0 0]\n",
            "Square Values for patch 2: [0 0 0 0 0 0 0 0 0 0 0 0 0 0 0 0 0 0 0 0 0 0 0 0 0]\n",
            "Square Values for patch 3: [0 0 0 0 0 0 0 0 0 0 0 0 0 0 0 0 0 0 0 0 0 0 0 0 0]\n",
            "Square Values for patch 4: [0 0 0 0 0 0 0 0 0 0 0 0 0 0 0 0 0 0 0 0 0 0 0 0 0]\n",
            "Square Values for patch 5: [0 0 0 0 0 0 0 0 0 0 0 0 0 0 0 0 0 0 0 0 0 0 0 0 0]\n"
          ]
        }
      ]
    },
    {
      "cell_type": "markdown",
      "source": [
        "### Random Function in Square Function"
      ],
      "metadata": {
        "id": "bIO91ig6dMr8"
      }
    },
    {
      "cell_type": "code",
      "source": [
        "import numpy as np\n",
        "from PIL import Image\n",
        "\n",
        "\n",
        "def load_image(image_path):\n",
        "    image = Image.open(image_path)\n",
        "    image = image.convert('L')\n",
        "    return np.array(image)\n",
        "\n",
        "def get_square_values(patch):\n",
        "    center = np.array(patch.shape) // 2\n",
        "    max_radius = min(center)\n",
        "    square_values = []\n",
        "    for r in range(max_radius + 1):\n",
        "        mask = np.zeros_like(patch, dtype=bool)\n",
        "        mask[max(center[0]-r, 0):min(center[0]+r+1, patch.shape[0]),\n",
        "             max(center[1]-r, 0):min(center[1]+r+1, patch.shape[1])] = True\n",
        "        mask[max(center[0]-(r-1), 0):min(center[0]+(r-1)+1, patch.shape[0]),\n",
        "             max(center[1]-(r-1), 0):min(center[1]+(r-1)+1, patch.shape[1])] = False\n",
        "        square_values.extend(np.sort(patch[mask]))\n",
        "    return np.array(square_values)\n",
        "\n",
        "def process_image_for_squares(image_array, patch_size=5):\n",
        "    rows, cols = image_array.shape\n",
        "    square_values_list = []\n",
        "    for i in range(0, rows - patch_size + 1):\n",
        "        for j in range(0, cols - patch_size + 1):\n",
        "            patch = image_array[i:i+patch_size, j:j+patch_size]\n",
        "            square_values = get_square_values(patch)\n",
        "            square_values_list.append(square_values)\n",
        "    return square_values_list\n",
        "\n",
        "\n",
        "def random_projection_matrix(input_dim, output_dim):\n",
        "    return np.random.choice([-1, 1], size=(output_dim, input_dim))\n",
        "\n",
        "# Apply RP to the output of process_image_for_squares\n",
        "def apply_rp(all_square_values, output_dim):\n",
        "    # Flatten the list of arrays to a single 2D array where each row is a patch's square values\n",
        "    data_matrix = np.array([np.pad(v, (0, max(0, output_dim - len(v))), 'constant', constant_values=0)\n",
        "                            for v in all_square_values])\n",
        "    input_dim = data_matrix.shape[1]  # Number of features\n",
        "    rp_matrix = random_projection_matrix(input_dim, output_dim)\n",
        "    rp_results = np.dot(data_matrix, rp_matrix.T)\n",
        "    return rp_results\n",
        "\n",
        "\n",
        "image_path = '/content/drive/My Drive/ExtractionResults/157/cropped_images/top_intensity_nucleus_30_1.tif'\n",
        "image = load_image(image_path)\n",
        "all_square_values = process_image_for_squares(image)\n",
        "\n",
        "\n",
        "output_dim = 100\n",
        "\n",
        "# Apply RP\n",
        "rp_results = apply_rp(all_square_values, output_dim)\n",
        "\n",
        "# Demonstration: Print RP results for the first 5 patches\n",
        "for i, rp_result in enumerate(rp_results[:5]):\n",
        "    print(f\"RP Results for patch {i+1}:\", rp_result)\n"
      ],
      "metadata": {
        "colab": {
          "base_uri": "https://localhost:8080/"
        },
        "id": "0XTKOWPUHgSF",
        "outputId": "f1cbf799-afa8-4b2a-e4fd-32da86afd9d2"
      },
      "execution_count": 6,
      "outputs": [
        {
          "output_type": "stream",
          "name": "stdout",
          "text": [
            "RP Results for patch 1: [0 0 0 0 0 0 0 0 0 0 0 0 0 0 0 0 0 0 0 0 0 0 0 0 0 0 0 0 0 0 0 0 0 0 0 0 0\n",
            " 0 0 0 0 0 0 0 0 0 0 0 0 0 0 0 0 0 0 0 0 0 0 0 0 0 0 0 0 0 0 0 0 0 0 0 0 0\n",
            " 0 0 0 0 0 0 0 0 0 0 0 0 0 0 0 0 0 0 0 0 0 0 0 0 0 0]\n",
            "RP Results for patch 2: [0 0 0 0 0 0 0 0 0 0 0 0 0 0 0 0 0 0 0 0 0 0 0 0 0 0 0 0 0 0 0 0 0 0 0 0 0\n",
            " 0 0 0 0 0 0 0 0 0 0 0 0 0 0 0 0 0 0 0 0 0 0 0 0 0 0 0 0 0 0 0 0 0 0 0 0 0\n",
            " 0 0 0 0 0 0 0 0 0 0 0 0 0 0 0 0 0 0 0 0 0 0 0 0 0 0]\n",
            "RP Results for patch 3: [0 0 0 0 0 0 0 0 0 0 0 0 0 0 0 0 0 0 0 0 0 0 0 0 0 0 0 0 0 0 0 0 0 0 0 0 0\n",
            " 0 0 0 0 0 0 0 0 0 0 0 0 0 0 0 0 0 0 0 0 0 0 0 0 0 0 0 0 0 0 0 0 0 0 0 0 0\n",
            " 0 0 0 0 0 0 0 0 0 0 0 0 0 0 0 0 0 0 0 0 0 0 0 0 0 0]\n",
            "RP Results for patch 4: [0 0 0 0 0 0 0 0 0 0 0 0 0 0 0 0 0 0 0 0 0 0 0 0 0 0 0 0 0 0 0 0 0 0 0 0 0\n",
            " 0 0 0 0 0 0 0 0 0 0 0 0 0 0 0 0 0 0 0 0 0 0 0 0 0 0 0 0 0 0 0 0 0 0 0 0 0\n",
            " 0 0 0 0 0 0 0 0 0 0 0 0 0 0 0 0 0 0 0 0 0 0 0 0 0 0]\n",
            "RP Results for patch 5: [0 0 0 0 0 0 0 0 0 0 0 0 0 0 0 0 0 0 0 0 0 0 0 0 0 0 0 0 0 0 0 0 0 0 0 0 0\n",
            " 0 0 0 0 0 0 0 0 0 0 0 0 0 0 0 0 0 0 0 0 0 0 0 0 0 0 0 0 0 0 0 0 0 0 0 0 0\n",
            " 0 0 0 0 0 0 0 0 0 0 0 0 0 0 0 0 0 0 0 0 0 0 0 0 0 0]\n"
          ]
        }
      ]
    },
    {
      "cell_type": "markdown",
      "source": [
        "## Circle Function\n",
        "\n",
        "1. Takes a 5x5 pixel patch of the image as input and extracts values from concentric circles centered within the patch.\n",
        "2. Calculates the center of the patch and iterates through radii from 0 to half the patch size, creating a mask for each circle using a distance formula from the center.\n",
        "3. The Circle values for the first 5 patches as a demonstration of what the processing reveals."
      ],
      "metadata": {
        "id": "CTfM2RVJ3GAy"
      }
    },
    {
      "cell_type": "code",
      "source": [
        "import numpy as np\n",
        "from PIL import Image\n",
        "\n",
        "def load_image(image_path):\n",
        "    image = Image.open(image_path)\n",
        "    image = image.convert('L')  # convert to grayscale\n",
        "    return np.array(image)\n",
        "\n",
        "def get_circle_values(patch):\n",
        "    center = np.array(patch.shape) // 2\n",
        "    circle_values = []\n",
        "\n",
        "    for r in range(patch.shape[0] // 2 + 1):\n",
        "        # Create the circle mask\n",
        "        Y, X = np.ogrid[:patch.shape[0], :patch.shape[1]]\n",
        "        dist_from_center = np.sqrt((X - center[1])**2 + (Y - center[0])**2)\n",
        "        mask = (dist_from_center >= r) & (dist_from_center < r + 1)\n",
        "        # Extract and sort values\n",
        "        circle_values.extend(np.sort(patch[mask]))\n",
        "\n",
        "    return np.array(circle_values)\n",
        "\n",
        "def process_image_for_circles(image_array, patch_size=5):\n",
        "\n",
        "    rows, cols = image_array.shape\n",
        "    circle_values_list = []\n",
        "\n",
        "    # Iterate over each possible patch in the image\n",
        "    for i in range(0, rows - patch_size + 1):\n",
        "        for j in range(0, cols - patch_size + 1):\n",
        "            # Extract the patch\n",
        "            patch = image_array[i:i+patch_size, j:j+patch_size]\n",
        "            # Get the circle values from the patch\n",
        "            circle_values = get_circle_values(patch)\n",
        "            circle_values_list.append(circle_values)\n",
        "\n",
        "    return circle_values_list\n",
        "\n",
        "\n",
        "image_path = '/content/drive/My Drive/ExtractionResults/157/cropped_images/top_intensity_nucleus_30_1.tif'\n",
        "image = load_image(image_path)\n",
        "\n",
        "# Process the image and get the circle values for each patch\n",
        "all_circle_values = process_image_for_circles(image)\n",
        "\n",
        "# For demonstration purposes, let's print the circle values for the first 5 patches\n",
        "for i, circle_values in enumerate(all_circle_values[:5]):\n",
        "    print(f\"Circle Values for patch {i+1}:\", circle_values)\n"
      ],
      "metadata": {
        "colab": {
          "base_uri": "https://localhost:8080/"
        },
        "id": "_36Sjagopubs",
        "outputId": "30eb7f77-7d26-483f-808a-2522a0f68d8b"
      },
      "execution_count": 7,
      "outputs": [
        {
          "output_type": "stream",
          "name": "stdout",
          "text": [
            "Circle Values for patch 1: [0 0 0 0 0 0 0 0 0 0 0 0 0 0 0 0 0 0 0 0 0 0 0 0 0]\n",
            "Circle Values for patch 2: [0 0 0 0 0 0 0 0 0 0 0 0 0 0 0 0 0 0 0 0 0 0 0 0 0]\n",
            "Circle Values for patch 3: [0 0 0 0 0 0 0 0 0 0 0 0 0 0 0 0 0 0 0 0 0 0 0 0 0]\n",
            "Circle Values for patch 4: [0 0 0 0 0 0 0 0 0 0 0 0 0 0 0 0 0 0 0 0 0 0 0 0 0]\n",
            "Circle Values for patch 5: [0 0 0 0 0 0 0 0 0 0 0 0 0 0 0 0 0 0 0 0 0 0 0 0 0]\n"
          ]
        }
      ]
    },
    {
      "cell_type": "markdown",
      "source": [
        "### Random Projection in Circle Function  "
      ],
      "metadata": {
        "id": "GjI4WylidB5b"
      }
    },
    {
      "cell_type": "code",
      "source": [
        "import numpy as np\n",
        "from PIL import Image\n",
        "\n",
        "\n",
        "def load_image(image_path):\n",
        "    image = Image.open(image_path)\n",
        "    image = image.convert('L')  # convert to grayscale\n",
        "    return np.array(image)\n",
        "\n",
        "def get_circle_values(patch):\n",
        "    center = np.array(patch.shape) // 2\n",
        "    circle_values = []\n",
        "    for r in range(patch.shape[0] // 2 + 1):\n",
        "        Y, X = np.ogrid[:patch.shape[0], :patch.shape[1]]\n",
        "        dist_from_center = np.sqrt((X - center[1])**2 + (Y - center[0])**2)\n",
        "        mask = (dist_from_center >= r) & (dist_from_center < r + 1)\n",
        "        circle_values.extend(np.sort(patch[mask]))\n",
        "    return np.array(circle_values)\n",
        "\n",
        "def process_image_for_circles(image_array, patch_size=5):\n",
        "    rows, cols = image_array.shape\n",
        "    circle_values_list = []\n",
        "    for i in range(0, rows - patch_size + 1):\n",
        "        for j in range(0, cols - patch_size + 1):\n",
        "            patch = image_array[i:i+patch_size, j:j+patch_size]\n",
        "            circle_values = get_circle_values(patch)\n",
        "            circle_values_list.append(circle_values)\n",
        "    return circle_values_list\n",
        "\n",
        "# Random Projection function\n",
        "def random_projection_matrix(input_dim, output_dim):\n",
        "    return np.random.choice([-1, 1], size=(output_dim, input_dim))\n",
        "\n",
        "# Adapted application of RP to circle values\n",
        "def apply_rp_to_circles(all_circle_values, input_dim=10, output_dim=5):\n",
        "    # Prepare circle values data: truncate or pad to match input_dim\n",
        "    prepared_data = []\n",
        "    for values in all_circle_values:\n",
        "        if len(values) > input_dim:\n",
        "            prepared_data.append(values[:input_dim])  # Truncate\n",
        "        else:\n",
        "            prepared_data.append(np.pad(values, (0, max(0, input_dim - len(values))), 'constant'))  # Pad\n",
        "    data_matrix = np.stack(prepared_data)\n",
        "    rp_matrix = random_projection_matrix(input_dim, output_dim)\n",
        "    rp_results = np.dot(data_matrix, rp_matrix.T)\n",
        "    return rp_results\n",
        "\n",
        "# Example usage\n",
        "image_path = '/content/drive/My Drive/ExtractionResults/157/cropped_images/top_intensity_nucleus_30_1.tif'\n",
        "image = load_image(image_path)\n",
        "all_circle_values = process_image_for_circles(image)\n",
        "rp_results = apply_rp_to_circles(all_circle_values)\n",
        "\n",
        "# Print the RP results for demonstration\n",
        "for i, rp_result in enumerate(rp_results[:5]):\n",
        "    print(f\"RP Results for patch {i+1}:\", rp_result)\n"
      ],
      "metadata": {
        "colab": {
          "base_uri": "https://localhost:8080/"
        },
        "id": "FLH1j-j7H3-j",
        "outputId": "eab27798-bf0a-4dfc-c60c-87ac885302dd"
      },
      "execution_count": 8,
      "outputs": [
        {
          "output_type": "stream",
          "name": "stdout",
          "text": [
            "RP Results for patch 1: [0 0 0 0 0]\n",
            "RP Results for patch 2: [0 0 0 0 0]\n",
            "RP Results for patch 3: [0 0 0 0 0]\n",
            "RP Results for patch 4: [0 0 0 0 0]\n",
            "RP Results for patch 5: [0 0 0 0 0]\n"
          ]
        }
      ]
    },
    {
      "cell_type": "code",
      "source": [],
      "metadata": {
        "id": "dWu7M1XwSBxC"
      },
      "execution_count": null,
      "outputs": []
    },
    {
      "cell_type": "markdown",
      "source": [
        "## Pixel Differences"
      ],
      "metadata": {
        "id": "hS9y26WB4i7c"
      }
    },
    {
      "cell_type": "markdown",
      "source": [
        "## Angular difference\n",
        "\n",
        "1. Involves assessing pixel differences in an angular pattern.\n",
        "2. Diagonal or other angular orientations within the patch to capture the texture's directionality and angular variance.\n",
        "3. Print Angular Results"
      ],
      "metadata": {
        "id": "AM_w6_r35Id4"
      }
    },
    {
      "cell_type": "code",
      "source": [
        "import numpy as np\n",
        "import matplotlib.pyplot as plt\n",
        "from skimage import io\n",
        "\n",
        "def calculate_angular_differences(patch):\n",
        "    # Calculate differences in multiple directions\n",
        "    horizontal_diffs = np.diff(patch, axis=1)[:-1, :]  # Horizontal differences, excluding last row for alignment\n",
        "    vertical_diffs = np.diff(patch, axis=0)[:, :-1]  # Vertical differences, excluding last column for alignment\n",
        "    diagonal_diffs = np.diff(patch.diagonal())  # Diagonal differences\n",
        "\n",
        "    # Additional direction (e.g., anti-diagonal) for more angular variation\n",
        "    anti_diagonal_diffs = np.diff(np.fliplr(patch).diagonal())\n",
        "\n",
        "    # Combine all differences into a single descriptor vector\n",
        "    descriptor = np.concatenate([\n",
        "        horizontal_diffs.flatten(),\n",
        "        vertical_diffs.flatten(),\n",
        "        diagonal_diffs.flatten(),\n",
        "        anti_diagonal_diffs.flatten()\n",
        "    ])\n",
        "\n",
        "    return descriptor\n",
        "\n",
        "# Placeholder for image loading\n",
        "image = io.imread('/content/drive/My Drive/ExtractionResults/157/cropped_images/top_intensity_nucleus_30_1.tif')\n",
        "\n",
        "# Simulating a 5x5 patch extraction for demonstration\n",
        "patch = np.random.randint(0, 255, (5, 5))\n",
        "\n",
        "# Compute the Angular Descriptor for the patch\n",
        "angular_descriptor = calculate_angular_differences(patch)\n",
        "\n",
        "print(\"Angular Descriptor:\", angular_descriptor)\n"
      ],
      "metadata": {
        "colab": {
          "base_uri": "https://localhost:8080/"
        },
        "id": "c7IGY-wvpueO",
        "outputId": "760cd013-3e2a-4795-9c97-da2b833fe64f"
      },
      "execution_count": 8,
      "outputs": [
        {
          "output_type": "stream",
          "name": "stdout",
          "text": [
            "Angular Descriptor: [ -39  -40  244  -96   34   32   -8  -31  144   -6  -46   17   14  122\n",
            "  -15   48   65  138  210  -42  -73   37   -1  -39    1 -129   -1   30\n",
            "  -12  -14 -157  -12   99   31  -16 -126   54    7 -123  -26]\n"
          ]
        }
      ]
    },
    {
      "cell_type": "markdown",
      "source": [
        "### Random Projection in Angular Descriptor"
      ],
      "metadata": {
        "id": "gp6c9X9cc2UJ"
      }
    },
    {
      "cell_type": "code",
      "source": [
        "import numpy as np\n",
        "import matplotlib.pyplot as plt\n",
        "from skimage import io\n",
        "\n",
        "def calculate_angular_differences(patch):\n",
        "    # Calculate differences in multiple directions\n",
        "    horizontal_diffs = np.diff(patch, axis=1)[:-1, :]  # Horizontal differences, excluding last row for alignment\n",
        "    vertical_diffs = np.diff(patch, axis=0)[:, :-1]  # Vertical differences, excluding last column for alignment\n",
        "    diagonal_diffs = np.diff(patch.diagonal())  # Diagonal differences\n",
        "\n",
        "    # Additional direction (e.g., anti-diagonal) for more angular variation\n",
        "    anti_diagonal_diffs = np.diff(np.fliplr(patch).diagonal())\n",
        "\n",
        "    # Combine all differences into a single descriptor vector\n",
        "    descriptor = np.concatenate([\n",
        "        horizontal_diffs.flatten(),\n",
        "        vertical_diffs.flatten(),\n",
        "        diagonal_diffs.flatten(),\n",
        "        anti_diagonal_diffs.flatten()\n",
        "    ])\n",
        "\n",
        "    return descriptor\n",
        "\n",
        "def random_projection_matrix(input_dim, output_dim):\n",
        "    \"\"\"\n",
        "    Generates a random projection matrix with elements being either +1 or -1.\n",
        "\n",
        "    Parameters:\n",
        "        input_dim (int): Dimension of the input space.\n",
        "        output_dim (int): Dimension of the output space.\n",
        "\n",
        "    Returns:\n",
        "        np.ndarray: Random projection matrix of shape (output_dim, input_dim).\n",
        "    \"\"\"\n",
        "    return np.random.choice([-1, 1], size=(output_dim, input_dim))\n",
        "\n",
        "# Load the image\n",
        "image_path = '/content/drive/My Drive/ExtractionResults/157/cropped_images/top_intensity_nucleus_30_1.tif'\n",
        "image = io.imread(image_path, as_gray=True)\n",
        "\n",
        "# Simulating a 5x5 patch extraction for demonstration\n",
        "patch = np.random.randint(0, 255, (5, 5))  # For actual use, extract a patch from 'image'\n",
        "\n",
        "# Compute the Angular Descriptor for the patch\n",
        "angular_descriptor = calculate_angular_differences(patch)\n",
        "\n",
        "# Specify the dimensions for the random projection\n",
        "input_dim = len(angular_descriptor)  # Input dimension is the length of the angular descriptor\n",
        "output_dim = 10  # Output dimension for the reduced space\n",
        "\n",
        "# Generate the random projection matrix and apply it\n",
        "rp_matrix = random_projection_matrix(input_dim, output_dim)\n",
        "projected_angular_descriptor = np.dot(rp_matrix, angular_descriptor)\n",
        "\n",
        "print(\"Angular Descriptor:\", angular_descriptor)\n",
        "print(\"Projected Angular Descriptor:\", projected_angular_descriptor)\n"
      ],
      "metadata": {
        "colab": {
          "base_uri": "https://localhost:8080/"
        },
        "id": "VoOVlk2wRhkT",
        "outputId": "cb1aa154-57c8-434b-e66c-3ae182216cb0"
      },
      "execution_count": 21,
      "outputs": [
        {
          "output_type": "stream",
          "name": "stdout",
          "text": [
            "Angular Descriptor: [-189   24  136    1   53  104 -131  -44  158  -99  110 -184 -172   87\n",
            "  -96   34 -111  131  211  -56    3  108  -95  146  131 -199  -13 -219\n",
            "   35  114 -113  153  -58    9 -109   72  -57   36 -100  207]\n",
            "Projected Angular Descriptor: [-1770 -1778 -1006 -1044 -1002   132   408  -424  -796  1642]\n"
          ]
        }
      ]
    },
    {
      "cell_type": "markdown",
      "source": [
        "## Radial Differences\n",
        "1. Consider the distance of each pixel from the center of the patch (5x5).\n",
        "2. Based on the differences in intensity values as a function of distance from this center pixel.\n",
        "3. Calculate the radial descriptor by assessing the intensity values of pixels at increasing distances from the center.\n",
        "4. Given the non-continuous nature of pixel locations and the square shape of the patch, this step involves grouping pixels by their rounded distance from the center and summarizing these groups' intensities, possibly by mean or sum."
      ],
      "metadata": {
        "id": "_mivsdqs7cdO"
      }
    },
    {
      "cell_type": "code",
      "source": [
        "import numpy as np\n",
        "from skimage import io, img_as_float\n",
        "from scipy.spatial.distance import cdist\n",
        "\n",
        "def compute_radial_descriptor(patch):\n",
        "    center = np.array([[2, 2]])  # Center of the patch\n",
        "    coords = np.indices(dimensions=patch.shape).reshape(2, -1).T  # Coordinates of all pixels\n",
        "\n",
        "    # Compute distances of all pixels from the center\n",
        "    distances = cdist(coords, center, metric='euclidean').flatten()\n",
        "\n",
        "    # Round distances to nearest half to group pixels radially\n",
        "    rounded_distances = np.round(distances * 2) / 2\n",
        "\n",
        "    # Compute the radial descriptor as the mean intensity for each radial distance\n",
        "    radial_descriptor = {}\n",
        "    for distance in np.unique(rounded_distances):\n",
        "        mask = rounded_distances == distance\n",
        "        radial_descriptor[distance] = np.mean(patch.flatten()[mask])\n",
        "\n",
        "    return radial_descriptor\n",
        "\n",
        "\n",
        "image_path = '/content/drive/My Drive/ExtractionResults/157/cropped_images/top_intensity_nucleus_30_1.tif'\n",
        "image = img_as_float(io.imread(image_path, as_gray=True))\n",
        "\n",
        "# Extract a 5x5 patch from the image (example: top-left corner)\n",
        "patch = image[0:5, 0:5]\n",
        "\n",
        "# Compute the Radial Descriptor for the patch\n",
        "radial_descriptor = compute_radial_descriptor(patch)\n",
        "\n",
        "print(\"Radial Descriptor:\", radial_descriptor)\n"
      ],
      "metadata": {
        "colab": {
          "base_uri": "https://localhost:8080/"
        },
        "id": "bCbAB7Q4puhE",
        "outputId": "a683ec60-a007-415d-e5d4-53bdb3c67b80"
      },
      "execution_count": 34,
      "outputs": [
        {
          "output_type": "stream",
          "name": "stdout",
          "text": [
            "Radial Descriptor: {0.0: 0.0, 1.0: 0.0, 1.5: 0.0, 2.0: 0.0, 3.0: 0.0}\n"
          ]
        }
      ]
    },
    {
      "cell_type": "markdown",
      "source": [
        "### Random Projection in Radial Differences\n",
        "\n",
        "Select a Patch with Features: Instead of selecting the top-left corner, choose a part of the image that visibly contains features.\n",
        "\n",
        "Compute the Radial Descriptor: Run the compute_radial_descriptor on the selected patch.\n",
        "\n",
        "Apply Random Projection: Only if the radial descriptor is non-zero, apply the RP to get the projected descriptor."
      ],
      "metadata": {
        "id": "DlzHipbucmGb"
      }
    },
    {
      "cell_type": "code",
      "source": [
        "import numpy as np\n",
        "from skimage import io, img_as_float\n",
        "from scipy.spatial.distance import cdist\n",
        "\n",
        "def compute_radial_descriptor(patch):\n",
        "    # Center of the patch\n",
        "    center = np.array([patch.shape[0] // 2, patch.shape[1] // 2])\n",
        "    # Create an array with the coordinates of each pixel\n",
        "    y, x = np.ogrid[:patch.shape[0], :patch.shape[1]]\n",
        "    # Compute the distance of each pixel from the center\n",
        "    dist_from_center = np.sqrt((x - center[1])**2 + (y - center[0])**2)\n",
        "\n",
        "    # Flatten the arrays to use them as masks\n",
        "    patch_flat = patch.flatten()\n",
        "    dist_flat = dist_from_center.flatten()\n",
        "\n",
        "    # Calculate the mean intensity for each unique distance from the center\n",
        "    unique_dists = np.unique(dist_flat)\n",
        "    radial_descriptor = [patch_flat[dist_flat == d].mean() for d in unique_dists]\n",
        "\n",
        "    return np.array(radial_descriptor)\n",
        "\n",
        "def random_projection_matrix(input_dim, output_dim):\n",
        "    return np.random.choice([-1, 1], size=(output_dim, input_dim))\n",
        "\n",
        "# Load the TIF image and convert it to grayscale float\n",
        "image_path = '/content/drive/My Drive/ExtractionResults/157/cropped_images/top_intensity_nucleus_30_1.tif'\n",
        "image = img_as_float(io.imread(image_path, as_gray=True))\n",
        "\n",
        "# Define patch size\n",
        "patch_size = 5\n",
        "# Calculate the coordinates of the center of the image\n",
        "image_center = np.array(image.shape) // 2\n",
        "\n",
        "# Extract a patch around the center of the image\n",
        "start = image_center - patch_size // 2\n",
        "end = start + patch_size\n",
        "patch = image[start[0]:end[0], start[1]:end[1]]\n",
        "\n",
        "# Compute the radial descriptor for the patch\n",
        "radial_descriptor = compute_radial_descriptor(patch)\n",
        "\n",
        "# Ensure the radial_descriptor is the correct length\n",
        "if len(radial_descriptor) > 10:\n",
        "    radial_descriptor = radial_descriptor[:10]\n",
        "elif len(radial_descriptor) < 10:\n",
        "    radial_descriptor = np.pad(radial_descriptor, (0, 10 - len(radial_descriptor)), 'constant')\n",
        "\n",
        "# Generate the random projection matrix\n",
        "RP = random_projection_matrix(10, 5)\n",
        "# Apply the random projection\n",
        "fr = np.dot(RP, radial_descriptor)\n",
        "\n",
        "print(\"Projected Radial Descriptor:\", fr)\n"
      ],
      "metadata": {
        "id": "DDcme91gpumX",
        "colab": {
          "base_uri": "https://localhost:8080/"
        },
        "outputId": "38680def-5d56-40ea-c2b3-39a13aeeeb3e"
      },
      "execution_count": 38,
      "outputs": [
        {
          "output_type": "stream",
          "name": "stdout",
          "text": [
            "Projected Radial Descriptor: [ 0.00000000e+00 -4.94811684e-06  0.00000000e+00 -9.89623368e-06\n",
            " -4.94811684e-06]\n"
          ]
        }
      ]
    }
  ]
}